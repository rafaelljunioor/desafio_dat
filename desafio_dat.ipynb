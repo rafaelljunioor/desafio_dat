{
 "cells": [
  {
   "cell_type": "code",
   "execution_count": 141,
   "id": "0425e6f6",
   "metadata": {},
   "outputs": [],
   "source": [
    "#Importando Pandas\n",
    "import pandas as pd\n"
   ]
  },
  {
   "cell_type": "code",
   "execution_count": 142,
   "id": "a7a5c049",
   "metadata": {},
   "outputs": [],
   "source": [
    "#Armazenando dados em um dataframe.\n",
    "transacao = pd.read_excel(\"dataset/transacao.xlsx\")\n",
    "contrato = pd.read_excel(\"dataset/contrato.xlsx\")"
   ]
  },
  {
   "cell_type": "code",
   "execution_count": 143,
   "id": "5404732d",
   "metadata": {},
   "outputs": [
    {
     "data": {
      "text/html": [
       "<div>\n",
       "<style scoped>\n",
       "    .dataframe tbody tr th:only-of-type {\n",
       "        vertical-align: middle;\n",
       "    }\n",
       "\n",
       "    .dataframe tbody tr th {\n",
       "        vertical-align: top;\n",
       "    }\n",
       "\n",
       "    .dataframe thead th {\n",
       "        text-align: right;\n",
       "    }\n",
       "</style>\n",
       "<table border=\"1\" class=\"dataframe\">\n",
       "  <thead>\n",
       "    <tr style=\"text-align: right;\">\n",
       "      <th></th>\n",
       "      <th>transaction_id</th>\n",
       "      <th>client_id</th>\n",
       "      <th>total_amount</th>\n",
       "      <th>discount_percentage</th>\n",
       "    </tr>\n",
       "  </thead>\n",
       "  <tbody>\n",
       "    <tr>\n",
       "      <th>0</th>\n",
       "      <td>1</td>\n",
       "      <td>3545</td>\n",
       "      <td>3000</td>\n",
       "      <td>0.99</td>\n",
       "    </tr>\n",
       "    <tr>\n",
       "      <th>1</th>\n",
       "      <td>2</td>\n",
       "      <td>3545</td>\n",
       "      <td>4500</td>\n",
       "      <td>0.45</td>\n",
       "    </tr>\n",
       "    <tr>\n",
       "      <th>2</th>\n",
       "      <td>3</td>\n",
       "      <td>3509</td>\n",
       "      <td>69998</td>\n",
       "      <td>0.00</td>\n",
       "    </tr>\n",
       "    <tr>\n",
       "      <th>3</th>\n",
       "      <td>4</td>\n",
       "      <td>3510</td>\n",
       "      <td>1</td>\n",
       "      <td>NaN</td>\n",
       "    </tr>\n",
       "    <tr>\n",
       "      <th>4</th>\n",
       "      <td>5</td>\n",
       "      <td>4510</td>\n",
       "      <td>34</td>\n",
       "      <td>40.00</td>\n",
       "    </tr>\n",
       "  </tbody>\n",
       "</table>\n",
       "</div>"
      ],
      "text/plain": [
       "   transaction_id  client_id  total_amount  discount_percentage\n",
       "0               1       3545          3000                 0.99\n",
       "1               2       3545          4500                 0.45\n",
       "2               3       3509         69998                 0.00\n",
       "3               4       3510             1                  NaN\n",
       "4               5       4510            34                40.00"
      ]
     },
     "execution_count": 143,
     "metadata": {},
     "output_type": "execute_result"
    }
   ],
   "source": [
    "#Analise inicial de conteudo dos DF's\n",
    "\n",
    "transacao.head()"
   ]
  },
  {
   "cell_type": "code",
   "execution_count": 144,
   "id": "606b04ac",
   "metadata": {},
   "outputs": [
    {
     "data": {
      "text/html": [
       "<div>\n",
       "<style scoped>\n",
       "    .dataframe tbody tr th:only-of-type {\n",
       "        vertical-align: middle;\n",
       "    }\n",
       "\n",
       "    .dataframe tbody tr th {\n",
       "        vertical-align: top;\n",
       "    }\n",
       "\n",
       "    .dataframe thead th {\n",
       "        text-align: right;\n",
       "    }\n",
       "</style>\n",
       "<table border=\"1\" class=\"dataframe\">\n",
       "  <thead>\n",
       "    <tr style=\"text-align: right;\">\n",
       "      <th></th>\n",
       "      <th>contract_id</th>\n",
       "      <th>client_id</th>\n",
       "      <th>client_name</th>\n",
       "      <th>percentage</th>\n",
       "      <th>is_active</th>\n",
       "    </tr>\n",
       "  </thead>\n",
       "  <tbody>\n",
       "    <tr>\n",
       "      <th>0</th>\n",
       "      <td>3</td>\n",
       "      <td>3545</td>\n",
       "      <td>Magazine Luana</td>\n",
       "      <td>2.00</td>\n",
       "      <td>True</td>\n",
       "    </tr>\n",
       "    <tr>\n",
       "      <th>1</th>\n",
       "      <td>4</td>\n",
       "      <td>3545</td>\n",
       "      <td>Magazine Luana</td>\n",
       "      <td>1.95</td>\n",
       "      <td>False</td>\n",
       "    </tr>\n",
       "    <tr>\n",
       "      <th>2</th>\n",
       "      <td>5</td>\n",
       "      <td>3509</td>\n",
       "      <td>Lojas Italianas</td>\n",
       "      <td>1.00</td>\n",
       "      <td>True</td>\n",
       "    </tr>\n",
       "    <tr>\n",
       "      <th>3</th>\n",
       "      <td>6</td>\n",
       "      <td>3510</td>\n",
       "      <td>Carrerfive</td>\n",
       "      <td>3.00</td>\n",
       "      <td>True</td>\n",
       "    </tr>\n",
       "  </tbody>\n",
       "</table>\n",
       "</div>"
      ],
      "text/plain": [
       "   contract_id  client_id      client_name  percentage  is_active\n",
       "0            3       3545   Magazine Luana        2.00       True\n",
       "1            4       3545   Magazine Luana        1.95      False\n",
       "2            5       3509  Lojas Italianas        1.00       True\n",
       "3            6       3510       Carrerfive        3.00       True"
      ]
     },
     "execution_count": 144,
     "metadata": {},
     "output_type": "execute_result"
    }
   ],
   "source": [
    "\n",
    "contrato.head()"
   ]
  },
  {
   "cell_type": "code",
   "execution_count": 148,
   "id": "009f0fd9",
   "metadata": {},
   "outputs": [],
   "source": [
    "#teratar nulos\n",
    "transacao['discount_percentage'].fillna(0,inplace=True)"
   ]
  },
  {
   "cell_type": "code",
   "execution_count": 149,
   "id": "4acb9557",
   "metadata": {},
   "outputs": [],
   "source": [
    "#Criar vl liqudio\n",
    "transacao['vl_liquido'] = transacao['total_amount'] * ((100 - transacao['discount_percentage'] )/100)"
   ]
  },
  {
   "cell_type": "code",
   "execution_count": 206,
   "id": "cf4e240c",
   "metadata": {},
   "outputs": [
    {
     "data": {
      "text/html": [
       "<div>\n",
       "<style scoped>\n",
       "    .dataframe tbody tr th:only-of-type {\n",
       "        vertical-align: middle;\n",
       "    }\n",
       "\n",
       "    .dataframe tbody tr th {\n",
       "        vertical-align: top;\n",
       "    }\n",
       "\n",
       "    .dataframe thead th {\n",
       "        text-align: right;\n",
       "    }\n",
       "</style>\n",
       "<table border=\"1\" class=\"dataframe\">\n",
       "  <thead>\n",
       "    <tr style=\"text-align: right;\">\n",
       "      <th></th>\n",
       "      <th>contract_id</th>\n",
       "      <th>client_id</th>\n",
       "      <th>client_name</th>\n",
       "      <th>percentage</th>\n",
       "      <th>is_active</th>\n",
       "    </tr>\n",
       "  </thead>\n",
       "  <tbody>\n",
       "    <tr>\n",
       "      <th>0</th>\n",
       "      <td>3</td>\n",
       "      <td>3545</td>\n",
       "      <td>Magazine Luana</td>\n",
       "      <td>2.0</td>\n",
       "      <td>True</td>\n",
       "    </tr>\n",
       "    <tr>\n",
       "      <th>2</th>\n",
       "      <td>5</td>\n",
       "      <td>3509</td>\n",
       "      <td>Lojas Italianas</td>\n",
       "      <td>1.0</td>\n",
       "      <td>True</td>\n",
       "    </tr>\n",
       "    <tr>\n",
       "      <th>3</th>\n",
       "      <td>6</td>\n",
       "      <td>3510</td>\n",
       "      <td>Carrerfive</td>\n",
       "      <td>3.0</td>\n",
       "      <td>True</td>\n",
       "    </tr>\n",
       "  </tbody>\n",
       "</table>\n",
       "</div>"
      ],
      "text/plain": [
       "   contract_id  client_id      client_name  percentage  is_active\n",
       "0            3       3545   Magazine Luana         2.0       True\n",
       "2            5       3509  Lojas Italianas         1.0       True\n",
       "3            6       3510       Carrerfive         3.0       True"
      ]
     },
     "execution_count": 206,
     "metadata": {},
     "output_type": "execute_result"
    }
   ],
   "source": [
    "#retirar inativos\n",
    "contrato = contrato[contrato['is_active']==True]\n",
    "contrato.head()"
   ]
  },
  {
   "cell_type": "code",
   "execution_count": 207,
   "id": "a1d3cbe1",
   "metadata": {},
   "outputs": [],
   "source": [
    "#Merge de data frames\n",
    "df = pd.merge(transacao,contrato,on='client_id')\n",
    "\n",
    "\n"
   ]
  },
  {
   "cell_type": "code",
   "execution_count": 208,
   "id": "80023284",
   "metadata": {},
   "outputs": [],
   "source": [
    "df['vl_final'] =  df['vl_liquido'] * (df['percentage']/100)"
   ]
  },
  {
   "cell_type": "code",
   "execution_count": 209,
   "id": "dc623713",
   "metadata": {},
   "outputs": [
    {
     "data": {
      "text/html": [
       "<div>\n",
       "<style scoped>\n",
       "    .dataframe tbody tr th:only-of-type {\n",
       "        vertical-align: middle;\n",
       "    }\n",
       "\n",
       "    .dataframe tbody tr th {\n",
       "        vertical-align: top;\n",
       "    }\n",
       "\n",
       "    .dataframe thead th {\n",
       "        text-align: right;\n",
       "    }\n",
       "</style>\n",
       "<table border=\"1\" class=\"dataframe\">\n",
       "  <thead>\n",
       "    <tr style=\"text-align: right;\">\n",
       "      <th></th>\n",
       "      <th>transaction_id</th>\n",
       "      <th>client_id</th>\n",
       "      <th>total_amount</th>\n",
       "      <th>discount_percentage</th>\n",
       "      <th>vl_liquido</th>\n",
       "      <th>contract_id</th>\n",
       "      <th>client_name</th>\n",
       "      <th>percentage</th>\n",
       "      <th>is_active</th>\n",
       "      <th>vl_final</th>\n",
       "    </tr>\n",
       "  </thead>\n",
       "  <tbody>\n",
       "    <tr>\n",
       "      <th>0</th>\n",
       "      <td>1</td>\n",
       "      <td>3545</td>\n",
       "      <td>3000</td>\n",
       "      <td>0.99</td>\n",
       "      <td>2970.30</td>\n",
       "      <td>3</td>\n",
       "      <td>Magazine Luana</td>\n",
       "      <td>2.0</td>\n",
       "      <td>True</td>\n",
       "      <td>59.406</td>\n",
       "    </tr>\n",
       "    <tr>\n",
       "      <th>1</th>\n",
       "      <td>2</td>\n",
       "      <td>3545</td>\n",
       "      <td>4500</td>\n",
       "      <td>0.45</td>\n",
       "      <td>4479.75</td>\n",
       "      <td>3</td>\n",
       "      <td>Magazine Luana</td>\n",
       "      <td>2.0</td>\n",
       "      <td>True</td>\n",
       "      <td>89.595</td>\n",
       "    </tr>\n",
       "    <tr>\n",
       "      <th>2</th>\n",
       "      <td>3</td>\n",
       "      <td>3509</td>\n",
       "      <td>69998</td>\n",
       "      <td>0.00</td>\n",
       "      <td>69998.00</td>\n",
       "      <td>5</td>\n",
       "      <td>Lojas Italianas</td>\n",
       "      <td>1.0</td>\n",
       "      <td>True</td>\n",
       "      <td>699.980</td>\n",
       "    </tr>\n",
       "    <tr>\n",
       "      <th>3</th>\n",
       "      <td>4</td>\n",
       "      <td>3510</td>\n",
       "      <td>1</td>\n",
       "      <td>0.00</td>\n",
       "      <td>1.00</td>\n",
       "      <td>6</td>\n",
       "      <td>Carrerfive</td>\n",
       "      <td>3.0</td>\n",
       "      <td>True</td>\n",
       "      <td>0.030</td>\n",
       "    </tr>\n",
       "  </tbody>\n",
       "</table>\n",
       "</div>"
      ],
      "text/plain": [
       "   transaction_id  client_id  total_amount  discount_percentage  vl_liquido  \\\n",
       "0               1       3545          3000                 0.99     2970.30   \n",
       "1               2       3545          4500                 0.45     4479.75   \n",
       "2               3       3509         69998                 0.00    69998.00   \n",
       "3               4       3510             1                 0.00        1.00   \n",
       "\n",
       "   contract_id      client_name  percentage  is_active  vl_final  \n",
       "0            3   Magazine Luana         2.0       True    59.406  \n",
       "1            3   Magazine Luana         2.0       True    89.595  \n",
       "2            5  Lojas Italianas         1.0       True   699.980  \n",
       "3            6       Carrerfive         3.0       True     0.030  "
      ]
     },
     "execution_count": 209,
     "metadata": {},
     "output_type": "execute_result"
    }
   ],
   "source": [
    "df.head()"
   ]
  },
  {
   "cell_type": "code",
   "execution_count": null,
   "id": "cc40d9ab",
   "metadata": {
    "scrolled": true
   },
   "outputs": [],
   "source": []
  },
  {
   "cell_type": "raw",
   "id": "6b7f988a",
   "metadata": {},
   "source": []
  },
  {
   "cell_type": "code",
   "execution_count": null,
   "id": "c9f19e2d",
   "metadata": {},
   "outputs": [],
   "source": []
  }
 ],
 "metadata": {
  "kernelspec": {
   "display_name": "Python 3",
   "language": "python",
   "name": "python3"
  },
  "language_info": {
   "codemirror_mode": {
    "name": "ipython",
    "version": 3
   },
   "file_extension": ".py",
   "mimetype": "text/x-python",
   "name": "python",
   "nbconvert_exporter": "python",
   "pygments_lexer": "ipython3",
   "version": "3.8.8"
  }
 },
 "nbformat": 4,
 "nbformat_minor": 5
}
